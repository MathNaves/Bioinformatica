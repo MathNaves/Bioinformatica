{
 "cells": [
  {
   "cell_type": "markdown",
   "id": "76377222-a4a5-4424-a087-ffa79b7f22ea",
   "metadata": {},
   "source": [
    "## Projeto para o Guilherme  03/04/24"
   ]
  },
  {
   "cell_type": "markdown",
   "id": "8f235684-53de-4ad2-863f-a708a24cfa37",
   "metadata": {},
   "source": [
    "Este projeto consiste em um prgrama que seja capaz de ler arquivos do tipo fasta contendo informaçoes geneticas e classifique elas de acordo\n",
    "com o seu COG de forma a salvar em um novo arquivo fasta com o nome do resoectivo COG contendo suas sequencias e IDs correspondentes\n",
    "\n",
    "Os arquivos recebidos foram : \n",
    "\n",
    "EggNog_T_A.xlsx (i)\n",
    "COG_C_T_a.xlsx (ii)\n",
    "Proteome_T_a.faa (iii)\n",
    "\n",
    "(i) Tabela excel contendo informaçoes de nome dos genes (ID) e categoria COG (Esta tabela foi a que utilizamos para a criação do dicionario)\n",
    "(ii)Tabela excel contendo informaçoes de nome dos genes (ID) e categoria COG (Tabela nao utilizada, irei verificar com o solicitante)\n",
    "(iii) Arquivo contendo as sequencias proteicas de genes de Trichosporon Asahii\n",
    "\n",
    "\n",
    "Ao final da execução do programa foram gerados 116 arquivos fasta referente as categoricas de COG\n",
    "\n",
    "Foi feita uma etapa de validação aonde consiste em concatenar os 116 arquivos e contar a quantidade de sequencias a fim, de comparar com\n",
    "o arquivo de teste (Proteome_T_a.faa).\n",
    "\n",
    "Durante a faze de validação se observou que de 8311 sequencias apenas 5852 foram classificadas. A hipotese sobre este resultado é a tabela\n",
    "usada como \"dicionario\" não abrangia todas as sequencias.\n",
    "\n",
    "\n",
    "\n",
    "Conclusão: O programa se mostrou eficiente e conseguiu concluir a demanda. Algumas informações ainda precisam ser descutidas com o solicitante a fim de adicionar mais etapas de validação e adicionar mais informação aos cabeçalhos dos arquivos fasta."
   ]
  },
  {
   "cell_type": "code",
   "execution_count": null,
   "id": "40b2b0bf-2ca7-4860-a390-0e4445fd5df9",
   "metadata": {},
   "outputs": [],
   "source": [
    "# Importando bibliotecas\n",
    "import pandas as pd   # pandas para interagir com tabelas\n",
    "from Bio import SeqIO # BioPython para interagir com arquivos fasta\n",
    "import os # Para interagir com o sistema operacional"
   ]
  },
  {
   "cell_type": "code",
   "execution_count": null,
   "id": "c5b44b1a-1bf0-4faf-9fc9-e5c46aafa06b",
   "metadata": {},
   "outputs": [],
   "source": [
    "# Lista para armazenar os nomes dos genes\n",
    "gene_names = []\n",
    "\n",
    "# Abrir o arquivo multifasta e extrair os nomes dos genes\n",
    "with open(\"Seu arquivo fasta.fasta\", \"r\") as handle:\n",
    "    for record in SeqIO.parse(handle, \"fasta\"):\n",
    "        # Extrair o nome do gene do cabeçalho e adicionar à lista\n",
    "        gene_name = record.id.split()[0]  # O primeiro elemento do cabeçalho é o nome do gene\n",
    "        gene_names.append(gene_name)\n",
    "\n",
    "# Ler a tabela como um DataFrame\n",
    "tabela = pd.read_excel(\"EggNog_T_A.xlsx\")  \n",
    "\n",
    "# Criar um dicionário com o nome do gene como chave e o COG como valor\n",
    "gene_cog_dict = dict(zip(tabela['query'], tabela['COG_category']))\n",
    "\n",
    "# Iterar sobre os valores únicos de COG\n",
    "for cog_value in set(gene_cog_dict.values()):\n",
    "    # Criar um arquivo fasta para o valor de COG atual\n",
    "    filename = f\"{cog_value}.fasta\"\n",
    "    with open(filename, \"w\") as fasta_file:\n",
    "        # Iterar sobre o dicionário de genes e escrever as sequências correspondentes ao COG atual no arquivo fasta\n",
    "        for gene_name, cog in gene_cog_dict.items():\n",
    "            if cog == cog_value:\n",
    "                # Procurar a sequência correspondente ao gene\n",
    "                for record in SeqIO.parse(\"fasta.fasta\", \"fasta\"):\n",
    "                    if record.id.startswith(gene_name):\n",
    "                        # Escrever o cabeçalho e a sequência no arquivo fasta\n",
    "                        fasta_file.write(f\">{record.id}\\n{record.seq}\\n\")\n",
    "\n",
    "\n"
   ]
  },
  {
   "cell_type": "markdown",
   "id": "ba10dbc6-24c1-4ee0-b4d8-994b19f1055a",
   "metadata": {},
   "source": [
    "Etapa de validação"
   ]
  },
  {
   "cell_type": "code",
   "execution_count": null,
   "id": "1a5036cd-9141-4065-847c-6f1db0343aa5",
   "metadata": {},
   "outputs": [],
   "source": [
    "# Concatenando todos os arquivos fasta gerados pelo programa COG \n",
    "# Pasta onde estão os arquivos FASTA\n",
    "pasta = \"caminho/para/sua/pasta\"\n",
    "\n",
    "# Lista para armazenar os caminhos dos arquivos FASTA\n",
    "arquivos_fasta = []\n",
    "\n",
    "# Iterar sobre os arquivos na pasta e encontrar os arquivos FASTA\n",
    "for arquivo in os.listdir(pasta):\n",
    "    if arquivo.endswith(\".fasta\") or arquivo.endswith(\".fa\"):\n",
    "        arquivos_fasta.append(os.path.join(pasta, arquivo))\n",
    "\n",
    "# Nome do arquivo de saída concatenado\n",
    "arquivo_saida = \"arquivo_concatenado.fasta\"\n",
    "\n",
    "# Abrir o arquivo de saída para escrita\n",
    "with open(arquivo_saida, \"w\") as f_saida:\n",
    "    # Iterar sobre os arquivos FASTA encontrados\n",
    "    for arquivo_fasta in arquivos_fasta:\n",
    "        # Abrir cada arquivo FASTA e concatenar suas sequências no arquivo de saída\n",
    "        with open(arquivo_fasta, \"r\") as f_entrada:\n",
    "            for registro in SeqIO.parse(f_entrada, \"fasta\"):\n",
    "                SeqIO.write(registro, f_saida, \"fasta\")\n",
    "\n",
    "\n"
   ]
  },
  {
   "cell_type": "code",
   "execution_count": null,
   "id": "26d96f81-a72e-4c9a-9c74-e20f5c6d8301",
   "metadata": {},
   "outputs": [],
   "source": [
    "# Nome do arquivo FASTA\n",
    "arquivo_fasta1 = \"arquivo_concatenado.fasta\"\n",
    "arquivo_fasta2 = \"fasta.fasta\"\n",
    "# Contador para contar o número de sequências\n",
    "contador1 = 0\n",
    "contador2 = 0\n",
    "# Iterar sobre os registros FASTA e contar o número de sequências\n",
    "for registro in SeqIO.parse(arquivo_fasta1, \"fasta\"):\n",
    "    contador1 += 1\n",
    "for registro in SeqIO.parse(arquivo_fasta2, \"fasta\"):\n",
    "    contador2 += 1\n",
    "# Imprimir o número de sequências\n",
    "print(\"Número de sequências ARQUIVO ORIGINAL:\", contador2)\n",
    "print(\"Número de sequências ARQUIVO GERADO:\", contador1)"
   ]
  }
 ],
 "metadata": {
  "kernelspec": {
   "display_name": "Python 3 (ipykernel)",
   "language": "python",
   "name": "python3"
  },
  "language_info": {
   "codemirror_mode": {
    "name": "ipython",
    "version": 3
   },
   "file_extension": ".py",
   "mimetype": "text/x-python",
   "name": "python",
   "nbconvert_exporter": "python",
   "pygments_lexer": "ipython3",
   "version": "3.11.5"
  }
 },
 "nbformat": 4,
 "nbformat_minor": 5
}
